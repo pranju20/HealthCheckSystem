{
  "nbformat": 4,
  "nbformat_minor": 0,
  "metadata": {
    "colab": {
      "name": "Breast Cancer Prediction.ipynb",
      "provenance": []
    },
    "kernelspec": {
      "name": "python3",
      "display_name": "Python 3"
    },
    "language_info": {
      "name": "python"
    }
  },
  "cells": [
    {
      "cell_type": "markdown",
      "source": [
        "Description : This program detects breast cancer, based off data.\n",
        "import libraries"
      ],
      "metadata": {
        "id": "nCLN52CGG31Y"
      }
    },
    {
      "cell_type": "code",
      "source": [
        "#import libraries\n",
        "import numpy as np\n",
        "import pandas as pd\n",
        "import matplotlib.pyplot as plt\n",
        "import seaborn as sns "
      ],
      "metadata": {
        "id": "CA7DZWgxEkxj"
      },
      "execution_count": 1,
      "outputs": []
    },
    {
      "cell_type": "code",
      "source": [
        "df = pd.read_csv(\"/content/Copy of breast-cancer-wisconsin-csv.xls\")\n"
      ],
      "metadata": {
        "id": "D-nMdC7pIFSo"
      },
      "execution_count": 2,
      "outputs": []
    },
    {
      "cell_type": "code",
      "source": [
        "df.iloc[0] = [1000025, 5\t,1,\t1,\t1,\t2,\t1,\t3,\t1,\t1,\t2]\n",
        "df.rename(columns={'1000025':'Sample code number' ,'5': 'Clump Thickness' ,'1': 'Uniformity of Cell Size' , '1.1':'Uniformity of Cell Shape' ,'1.2': 'Marginal Adhesion' , '2':'Single Epithelial Cell Size' ,'1.3': 'Bare Nuclei' , '3':'Bland Chromatin' , '1.4':'Normal Nucleoli' , '1.5':'Mitoses' , '2.1':'Class:(2 for benign, 4 for malignant)'},inplace=True)\n",
        "df.head(5)"
      ],
      "metadata": {
        "id": "XxOtG3TlN501",
        "colab": {
          "base_uri": "https://localhost:8080/",
          "height": 267
        },
        "outputId": "1c7c04fa-e8ab-4767-e85d-b0c77f672f25"
      },
      "execution_count": 3,
      "outputs": [
        {
          "output_type": "execute_result",
          "data": {
            "text/plain": [
              "   Sample code number  Clump Thickness  Uniformity of Cell Size  \\\n",
              "0             1000025                5                        1   \n",
              "1             1015425                3                        1   \n",
              "2             1016277                6                        8   \n",
              "3             1017023                4                        1   \n",
              "4             1017122                8                       10   \n",
              "\n",
              "   Uniformity of Cell Shape  Marginal Adhesion  Single Epithelial Cell Size  \\\n",
              "0                         1                  1                            2   \n",
              "1                         1                  1                            2   \n",
              "2                         8                  1                            3   \n",
              "3                         1                  3                            2   \n",
              "4                        10                  8                            7   \n",
              "\n",
              "   Bare Nuclei  Bland Chromatin  Normal Nucleoli  Mitoses  \\\n",
              "0            1                3                1        1   \n",
              "1            2                3                1        1   \n",
              "2            4                3                7        1   \n",
              "3            1                3                1        1   \n",
              "4           10                9                7        1   \n",
              "\n",
              "   Class:(2 for benign, 4 for malignant)  \n",
              "0                                      2  \n",
              "1                                      2  \n",
              "2                                      2  \n",
              "3                                      2  \n",
              "4                                      4  "
            ],
            "text/html": [
              "\n",
              "  <div id=\"df-969a9d63-ba97-4a7b-a81d-f3c52c55d31c\">\n",
              "    <div class=\"colab-df-container\">\n",
              "      <div>\n",
              "<style scoped>\n",
              "    .dataframe tbody tr th:only-of-type {\n",
              "        vertical-align: middle;\n",
              "    }\n",
              "\n",
              "    .dataframe tbody tr th {\n",
              "        vertical-align: top;\n",
              "    }\n",
              "\n",
              "    .dataframe thead th {\n",
              "        text-align: right;\n",
              "    }\n",
              "</style>\n",
              "<table border=\"1\" class=\"dataframe\">\n",
              "  <thead>\n",
              "    <tr style=\"text-align: right;\">\n",
              "      <th></th>\n",
              "      <th>Sample code number</th>\n",
              "      <th>Clump Thickness</th>\n",
              "      <th>Uniformity of Cell Size</th>\n",
              "      <th>Uniformity of Cell Shape</th>\n",
              "      <th>Marginal Adhesion</th>\n",
              "      <th>Single Epithelial Cell Size</th>\n",
              "      <th>Bare Nuclei</th>\n",
              "      <th>Bland Chromatin</th>\n",
              "      <th>Normal Nucleoli</th>\n",
              "      <th>Mitoses</th>\n",
              "      <th>Class:(2 for benign, 4 for malignant)</th>\n",
              "    </tr>\n",
              "  </thead>\n",
              "  <tbody>\n",
              "    <tr>\n",
              "      <th>0</th>\n",
              "      <td>1000025</td>\n",
              "      <td>5</td>\n",
              "      <td>1</td>\n",
              "      <td>1</td>\n",
              "      <td>1</td>\n",
              "      <td>2</td>\n",
              "      <td>1</td>\n",
              "      <td>3</td>\n",
              "      <td>1</td>\n",
              "      <td>1</td>\n",
              "      <td>2</td>\n",
              "    </tr>\n",
              "    <tr>\n",
              "      <th>1</th>\n",
              "      <td>1015425</td>\n",
              "      <td>3</td>\n",
              "      <td>1</td>\n",
              "      <td>1</td>\n",
              "      <td>1</td>\n",
              "      <td>2</td>\n",
              "      <td>2</td>\n",
              "      <td>3</td>\n",
              "      <td>1</td>\n",
              "      <td>1</td>\n",
              "      <td>2</td>\n",
              "    </tr>\n",
              "    <tr>\n",
              "      <th>2</th>\n",
              "      <td>1016277</td>\n",
              "      <td>6</td>\n",
              "      <td>8</td>\n",
              "      <td>8</td>\n",
              "      <td>1</td>\n",
              "      <td>3</td>\n",
              "      <td>4</td>\n",
              "      <td>3</td>\n",
              "      <td>7</td>\n",
              "      <td>1</td>\n",
              "      <td>2</td>\n",
              "    </tr>\n",
              "    <tr>\n",
              "      <th>3</th>\n",
              "      <td>1017023</td>\n",
              "      <td>4</td>\n",
              "      <td>1</td>\n",
              "      <td>1</td>\n",
              "      <td>3</td>\n",
              "      <td>2</td>\n",
              "      <td>1</td>\n",
              "      <td>3</td>\n",
              "      <td>1</td>\n",
              "      <td>1</td>\n",
              "      <td>2</td>\n",
              "    </tr>\n",
              "    <tr>\n",
              "      <th>4</th>\n",
              "      <td>1017122</td>\n",
              "      <td>8</td>\n",
              "      <td>10</td>\n",
              "      <td>10</td>\n",
              "      <td>8</td>\n",
              "      <td>7</td>\n",
              "      <td>10</td>\n",
              "      <td>9</td>\n",
              "      <td>7</td>\n",
              "      <td>1</td>\n",
              "      <td>4</td>\n",
              "    </tr>\n",
              "  </tbody>\n",
              "</table>\n",
              "</div>\n",
              "      <button class=\"colab-df-convert\" onclick=\"convertToInteractive('df-969a9d63-ba97-4a7b-a81d-f3c52c55d31c')\"\n",
              "              title=\"Convert this dataframe to an interactive table.\"\n",
              "              style=\"display:none;\">\n",
              "        \n",
              "  <svg xmlns=\"http://www.w3.org/2000/svg\" height=\"24px\"viewBox=\"0 0 24 24\"\n",
              "       width=\"24px\">\n",
              "    <path d=\"M0 0h24v24H0V0z\" fill=\"none\"/>\n",
              "    <path d=\"M18.56 5.44l.94 2.06.94-2.06 2.06-.94-2.06-.94-.94-2.06-.94 2.06-2.06.94zm-11 1L8.5 8.5l.94-2.06 2.06-.94-2.06-.94L8.5 2.5l-.94 2.06-2.06.94zm10 10l.94 2.06.94-2.06 2.06-.94-2.06-.94-.94-2.06-.94 2.06-2.06.94z\"/><path d=\"M17.41 7.96l-1.37-1.37c-.4-.4-.92-.59-1.43-.59-.52 0-1.04.2-1.43.59L10.3 9.45l-7.72 7.72c-.78.78-.78 2.05 0 2.83L4 21.41c.39.39.9.59 1.41.59.51 0 1.02-.2 1.41-.59l7.78-7.78 2.81-2.81c.8-.78.8-2.07 0-2.86zM5.41 20L4 18.59l7.72-7.72 1.47 1.35L5.41 20z\"/>\n",
              "  </svg>\n",
              "      </button>\n",
              "      \n",
              "  <style>\n",
              "    .colab-df-container {\n",
              "      display:flex;\n",
              "      flex-wrap:wrap;\n",
              "      gap: 12px;\n",
              "    }\n",
              "\n",
              "    .colab-df-convert {\n",
              "      background-color: #E8F0FE;\n",
              "      border: none;\n",
              "      border-radius: 50%;\n",
              "      cursor: pointer;\n",
              "      display: none;\n",
              "      fill: #1967D2;\n",
              "      height: 32px;\n",
              "      padding: 0 0 0 0;\n",
              "      width: 32px;\n",
              "    }\n",
              "\n",
              "    .colab-df-convert:hover {\n",
              "      background-color: #E2EBFA;\n",
              "      box-shadow: 0px 1px 2px rgba(60, 64, 67, 0.3), 0px 1px 3px 1px rgba(60, 64, 67, 0.15);\n",
              "      fill: #174EA6;\n",
              "    }\n",
              "\n",
              "    [theme=dark] .colab-df-convert {\n",
              "      background-color: #3B4455;\n",
              "      fill: #D2E3FC;\n",
              "    }\n",
              "\n",
              "    [theme=dark] .colab-df-convert:hover {\n",
              "      background-color: #434B5C;\n",
              "      box-shadow: 0px 1px 3px 1px rgba(0, 0, 0, 0.15);\n",
              "      filter: drop-shadow(0px 1px 2px rgba(0, 0, 0, 0.3));\n",
              "      fill: #FFFFFF;\n",
              "    }\n",
              "  </style>\n",
              "\n",
              "      <script>\n",
              "        const buttonEl =\n",
              "          document.querySelector('#df-969a9d63-ba97-4a7b-a81d-f3c52c55d31c button.colab-df-convert');\n",
              "        buttonEl.style.display =\n",
              "          google.colab.kernel.accessAllowed ? 'block' : 'none';\n",
              "\n",
              "        async function convertToInteractive(key) {\n",
              "          const element = document.querySelector('#df-969a9d63-ba97-4a7b-a81d-f3c52c55d31c');\n",
              "          const dataTable =\n",
              "            await google.colab.kernel.invokeFunction('convertToInteractive',\n",
              "                                                     [key], {});\n",
              "          if (!dataTable) return;\n",
              "\n",
              "          const docLinkHtml = 'Like what you see? Visit the ' +\n",
              "            '<a target=\"_blank\" href=https://colab.research.google.com/notebooks/data_table.ipynb>data table notebook</a>'\n",
              "            + ' to learn more about interactive tables.';\n",
              "          element.innerHTML = '';\n",
              "          dataTable['output_type'] = 'display_data';\n",
              "          await google.colab.output.renderOutput(dataTable, element);\n",
              "          const docLink = document.createElement('div');\n",
              "          docLink.innerHTML = docLinkHtml;\n",
              "          element.appendChild(docLink);\n",
              "        }\n",
              "      </script>\n",
              "    </div>\n",
              "  </div>\n",
              "  "
            ]
          },
          "metadata": {},
          "execution_count": 3
        }
      ]
    },
    {
      "cell_type": "code",
      "source": [
        "#Count the number of rows and columns\n",
        "df.shape"
      ],
      "metadata": {
        "id": "tX1zNsiXQ8OC",
        "colab": {
          "base_uri": "https://localhost:8080/"
        },
        "outputId": "1ca37ad1-e716-4d12-b3ea-3da7c44eb496"
      },
      "execution_count": 4,
      "outputs": [
        {
          "output_type": "execute_result",
          "data": {
            "text/plain": [
              "(682, 11)"
            ]
          },
          "metadata": {},
          "execution_count": 4
        }
      ]
    },
    {
      "cell_type": "markdown",
      "source": [
        "Number of Instances: 699 (as of 15 July 1992)\n",
        "\n",
        "Number of Attributes: 10 plus the class attribute\n",
        "\n",
        "Attribute Information: (class attribute has been moved to last column)\n",
        "\n",
        "   #  Attribute  -                       Domain\n",
        "   -- -----------------------------------------\n",
        "   1. Sample code number -                id number\n",
        "   2. Clump Thickness -                  1 - 10\n",
        "   3. Uniformity of Cell Size  -         1 - 10\n",
        "   4. Uniformity of Cell Shape  -        1 - 10\n",
        "   5. Marginal Adhesion            -     1 - 10\n",
        "   6. Single Epithelial Cell Size  -     1 - 10\n",
        "   7. Bare Nuclei                   -    1 - 10\n",
        "   8. Bland Chromatin                -   1 - 10\n",
        "   9. Normal Nucleoli                 -  1 - 10\n",
        "   10. Mitoses                          - 1 - 10\n",
        "11. Class:                            (2 for benign, 4 for malignant)\n",
        "\n",
        "Missing attribute values: 16\n",
        "\n",
        "   There are 16 instances in Groups 1 to 6 that contain a single missing \n",
        "   (i.e., unavailable) attribute value, now denoted by \"?\".  \n",
        "\n",
        "Class distribution:\n",
        " \n",
        "   Benign: 458 (65.5%)\n",
        "   Malignant: 241 (34.5%)"
      ],
      "metadata": {
        "id": "O9Lcp8WrRDYf"
      }
    },
    {
      "cell_type": "code",
      "source": [
        "#Split the data into dependent(X) and independent(Y) data sets\n",
        "X = df.iloc[: , 1:9].values\n",
        "Y = df.iloc[: , 10].values"
      ],
      "metadata": {
        "id": "x5ecKzzMURZg"
      },
      "execution_count": 5,
      "outputs": []
    },
    {
      "cell_type": "code",
      "source": [
        "#Split the data into 75% training data and 25% testing\n",
        "from sklearn.model_selection import train_test_split\n",
        "X_train , X_test , Y_train , Y_test = train_test_split(X,Y, test_size = 0.25 , random_state = 0)"
      ],
      "metadata": {
        "id": "8JQu7_8wTE9-"
      },
      "execution_count": 6,
      "outputs": []
    },
    {
      "cell_type": "code",
      "source": [
        "#Create a function for the models\n",
        "def models(X_train,Y_train):\n",
        "\n",
        "  #Logistic Regression\n",
        "  from sklearn.linear_model import LogisticRegression\n",
        "  log = LogisticRegression(random_state = 0)\n",
        "  log.fit(X_train,Y_train)\n",
        "\n",
        "  #Decision Tree\n",
        "  from sklearn.tree import DecisionTreeClassifier\n",
        "  tree = DecisionTreeClassifier(criterion = 'entropy' , random_state = 0)\n",
        "  tree.fit(X_train, Y_train)\n",
        "\n",
        "  #Random Forest Classifier\n",
        "  from sklearn.ensemble import RandomForestClassifier\n",
        "  forest = RandomForestClassifier(n_estimators = 10, criterion = 'entropy' , random_state = 0)\n",
        "  forest.fit(X_train,Y_train)\n",
        "\n",
        "  #Print the models accuracy on the training data \n",
        "  print('[0] Logistic Regression Training Accuracy:', log.score(X_train,Y_train))\n",
        "  print('[1] Decision Tree Classifier Training Accuracy:', tree.score(X_train,Y_train))\n",
        "  print('[2] Random Forest Classifier Training Accuracy:', forest.score(X_train,Y_train))\n",
        "\n",
        "  return log,tree,forest"
      ],
      "metadata": {
        "id": "20PyEYLeTTtH"
      },
      "execution_count": 7,
      "outputs": []
    },
    {
      "cell_type": "code",
      "source": [
        "#Getting all of the models\n",
        "model = models(X_train,Y_train)"
      ],
      "metadata": {
        "id": "EDJAJ7ypTY3K",
        "colab": {
          "base_uri": "https://localhost:8080/"
        },
        "outputId": "feb7c72f-559e-4a66-c77d-d8bd3fa977f2"
      },
      "execution_count": 8,
      "outputs": [
        {
          "output_type": "stream",
          "name": "stdout",
          "text": [
            "[0] Logistic Regression Training Accuracy: 0.974559686888454\n",
            "[1] Decision Tree Classifier Training Accuracy: 1.0\n",
            "[2] Random Forest Classifier Training Accuracy: 0.9921722113502935\n"
          ]
        }
      ]
    },
    {
      "cell_type": "code",
      "source": [
        "#Test model accuracy on test data on confusion matrix\n",
        "from sklearn.metrics import confusion_matrix\n",
        "for i in range(len(model)):\n",
        "  print('Model' , i)\n",
        "  cm = confusion_matrix(Y_test, model[i].predict(X_test))\n",
        "  TP = cm[0][0]\n",
        "  FP = cm[0][1]\n",
        "  TN = cm[1][1]\n",
        "  FN = cm[1][0]\n",
        "  print(cm)\n",
        "  print('Testing Accuracy =',( TP + TN )/(TP + TN + FP + FN))\n",
        "  print()"
      ],
      "metadata": {
        "id": "V0PRANU_VFgH",
        "colab": {
          "base_uri": "https://localhost:8080/"
        },
        "outputId": "2f1c86e6-d824-414f-9316-535a5f1882c6"
      },
      "execution_count": 9,
      "outputs": [
        {
          "output_type": "stream",
          "name": "stdout",
          "text": [
            "Model 0\n",
            "[[109   3]\n",
            " [  1  58]]\n",
            "Testing Accuracy = 0.9766081871345029\n",
            "\n",
            "Model 1\n",
            "[[108   4]\n",
            " [  4  55]]\n",
            "Testing Accuracy = 0.9532163742690059\n",
            "\n",
            "Model 2\n",
            "[[110   2]\n",
            " [  1  58]]\n",
            "Testing Accuracy = 0.9824561403508771\n",
            "\n"
          ]
        }
      ]
    },
    {
      "cell_type": "code",
      "source": [
        "#Print the prediction of Random Forest Classifier model\n",
        "pred = model[2].predict(X_test)\n",
        "print(pred)\n",
        "print()\n",
        "print(Y_test)"
      ],
      "metadata": {
        "id": "eG24P0syYcx3",
        "colab": {
          "base_uri": "https://localhost:8080/"
        },
        "outputId": "0809eddb-5456-4bad-93d1-e5a0b94965c8"
      },
      "execution_count": 10,
      "outputs": [
        {
          "output_type": "stream",
          "name": "stdout",
          "text": [
            "[2 2 4 2 2 4 2 2 2 4 4 2 4 2 2 4 4 4 2 4 4 2 2 2 4 2 2 2 2 2 2 2 4 4 2 2 2\n",
            " 4 2 2 2 2 2 4 2 2 4 4 2 4 2 2 4 2 2 2 4 2 2 4 2 2 2 2 2 2 2 2 4 4 2 2 2 2\n",
            " 2 4 4 2 2 4 2 2 4 2 2 4 2 2 4 2 2 2 2 4 4 4 2 4 4 2 2 4 4 4 4 2 2 4 2 2 2\n",
            " 2 2 4 2 2 2 4 2 2 2 4 2 2 4 4 2 2 2 4 2 2 2 2 4 2 2 2 2 4 2 4 4 4 2 4 4 2\n",
            " 4 2 4 4 4 4 2 2 2 2 2 4 2 4 2 2 2 2 2 4 2 2 2]\n",
            "\n",
            "[2 2 4 2 2 4 2 2 2 4 4 2 4 2 2 4 4 4 2 4 4 2 2 2 4 2 2 2 2 2 2 2 4 2 2 2 2\n",
            " 4 2 2 2 2 2 4 2 2 4 4 2 4 2 2 4 2 2 2 2 2 2 4 2 2 2 2 2 2 2 2 4 4 2 2 2 2\n",
            " 2 4 4 2 2 4 2 2 4 2 2 4 2 2 4 2 2 2 2 4 4 4 2 4 4 2 2 4 4 4 4 2 2 4 2 2 2\n",
            " 2 2 4 2 2 2 4 2 2 2 4 2 4 4 4 2 2 2 4 2 2 2 2 4 2 2 2 2 4 2 4 4 4 2 4 4 2\n",
            " 4 2 4 4 4 4 2 2 2 2 2 4 2 4 2 2 2 2 2 4 2 2 2]\n"
          ]
        }
      ]
    },
    {
      "cell_type": "code",
      "source": [
        "import pickle\n",
        "# create an iterator object with write permission - model.pkl\n",
        "with open('breast_model_pkl', 'wb') as files:\n",
        "    pickle.dump(pred, files)"
      ],
      "metadata": {
        "id": "zfMRaomTYKfE"
      },
      "execution_count": 11,
      "outputs": []
    }
  ]
}